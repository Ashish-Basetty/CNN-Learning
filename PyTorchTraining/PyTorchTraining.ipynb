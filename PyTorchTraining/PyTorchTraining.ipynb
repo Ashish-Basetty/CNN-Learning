{
 "cells": [
  {
   "cell_type": "code",
   "execution_count": 1,
   "metadata": {},
   "outputs": [],
   "source": [
    "import torch\n",
    "import numpy\n",
    "import matplotlib.pyplot as plt\n",
    "import torchvision\n",
    "import torch.nn as nn\n",
    "import torch.nn.functional as F"
   ]
  },
  {
   "cell_type": "code",
   "execution_count": 4,
   "metadata": {},
   "outputs": [
    {
     "name": "stdout",
     "output_type": "stream",
     "text": [
      "tensor([[[0., 0., 0.],\n",
      "         [0., 0., 0.]],\n",
      "\n",
      "        [[0., 0., 0.],\n",
      "         [0., 0., 0.]],\n",
      "\n",
      "        [[0., 0., 0.],\n",
      "         [0., 0., 0.]],\n",
      "\n",
      "        [[0., 0., 0.],\n",
      "         [0., 0., 0.]],\n",
      "\n",
      "        [[0., 0., 0.],\n",
      "         [0., 0., 0.]]])\n"
     ]
    }
   ],
   "source": [
    "z = torch.zeros([5,2,3])\n",
    "print(z)"
   ]
  },
  {
   "cell_type": "code",
   "execution_count": 6,
   "metadata": {},
   "outputs": [
    {
     "name": "stdout",
     "output_type": "stream",
     "text": [
      "tensor([[5, 3],\n",
      "        [2, 7]])\n",
      "tensor([[5, 3, 2, 7]])\n",
      "tensor([5, 3, 2, 7])\n"
     ]
    }
   ],
   "source": [
    "a = torch.tensor([[5,3],[2,7]])\n",
    "print(a)\n",
    "b = torch.reshape(a, [1,4])\n",
    "print (b)\n",
    "c = torch.squeeze(b)\n",
    "print (c)"
   ]
  },
  {
   "cell_type": "code",
   "execution_count": 10,
   "metadata": {},
   "outputs": [
    {
     "data": {
      "text/plain": [
       "tensor([[ 2., -2.],\n",
       "        [ 2.,  2.]])"
      ]
     },
     "execution_count": 10,
     "metadata": {},
     "output_type": "execute_result"
    }
   ],
   "source": [
    "x = torch.tensor([[1.,-1.],[1., 1.]], requires_grad=True)\n",
    "out = x.pow(2).sum()\n",
    "out.backward()\n",
    "x.grad"
   ]
  },
  {
   "cell_type": "code",
   "execution_count": 12,
   "metadata": {},
   "outputs": [],
   "source": [
    "#statements essentially represent datapoints, while truth represents labels\n",
    "class CustomDataset(torch.utils.data.Dataset):\n",
    "    def __init__(self, statements, truth):\n",
    "        self.statements = statements\n",
    "        self.truth = truth\n",
    "    def __get_item__(self, index):\n",
    "        return self. statements[index], self.truth[index]\n",
    "    def __len__(self):\n",
    "        return len(self.truth)"
   ]
  },
  {
   "cell_type": "code",
   "execution_count": 26,
   "metadata": {},
   "outputs": [],
   "source": [
    "TrainDataset = torchvision.datasets.MNIST(\"./data\", train=True, transform=torchvision.transforms.ToTensor(), download=True)\n",
    "TestDataset = torchvision.datasets.MNIST(\"./data\", transform=torchvision.transforms.ToTensor(), download=True)"
   ]
  },
  {
   "cell_type": "code",
   "execution_count": 27,
   "metadata": {},
   "outputs": [
    {
     "name": "stdout",
     "output_type": "stream",
     "text": [
      "torch.Size([16, 1, 28, 28]) torch.Size([16])\n",
      "1\n"
     ]
    },
    {
     "data": {
      "image/png": "[encoded data removed]",
      "text/plain": [
       "<Figure size 432x288 with 1 Axes>"
      ]
     },
     "metadata": {
      "needs_background": "light"
     },
     "output_type": "display_data"
    }
   ],
   "source": [
    "TrainDataLoader = torch.utils.data.DataLoader(TrainDataset, batch_size=16, shuffle=True)\n",
    "TestDataLoader = torch.utils.data.DataLoader(TestDataset, batch_size=16, shuffle=True)\n",
    "TrainIterator = iter(TrainDataLoader)\n",
    "BatchOfSamples = TrainIterator.next()\n",
    "Inputs, Labels = BatchOfSamples\n",
    "print(Inputs.size(), Labels.size())\n",
    "plt.imshow(Inputs[0].squeeze(), cmap=\"hot\")\n",
    "print(Labels[0].item())\n"
   ]
  },
  {
   "cell_type": "code",
   "execution_count": 28,
   "metadata": {},
   "outputs": [],
   "source": [
    "class CustomModel(nn.Module):\n",
    "    def __init__(self, input_dim, output_dim):\n",
    "        super(CustomModel, self).__init__()\n",
    "        self.layer1 = nn.Linear(input_dim, 256)\n",
    "        self.layer2 = nn.Linear(256, 128)\n",
    "        self.layer3 = nn.Linear(128, output_dim)\n",
    "\n",
    "    def forward(self, x):\n",
    "        #define feedforward routine\n",
    "        x = F.relu(self.layer1(x))\n",
    "        x = F.relu(self.layer2(x))\n",
    "        x = self.layer3(x)\n",
    "        return x"
   ]
  },
  {
   "cell_type": "code",
   "execution_count": 29,
   "metadata": {},
   "outputs": [],
   "source": [
    "MyModel = CustomModel(784, 10)\n",
    "Loss = nn.CrossEntropyLoss()\n",
    "Optimizer = torch.optim.Adam(MyModel.parameters(), lr=0.01)"
   ]
  },
  {
   "cell_type": "code",
   "execution_count": 30,
   "metadata": {},
   "outputs": [
    {
     "name": "stdout",
     "output_type": "stream",
     "text": [
      "Epoch: 1 Loss: 0.05802251771092415\n",
      "Epoch: 2 Loss: 0.05802251771092415\n",
      "Epoch: 3 Loss: 0.05802251771092415\n",
      "Epoch: 4 Loss: 0.05802251771092415\n",
      "Epoch: 5 Loss: 0.05802251771092415\n",
      "Epoch: 6 Loss: 0.05802251771092415\n",
      "Epoch: 7 Loss: 0.05802251771092415\n",
      "Epoch: 8 Loss: 0.05802251771092415\n",
      "Epoch: 9 Loss: 0.05802251771092415\n",
      "Epoch: 10 Loss: 0.05802251771092415\n"
     ]
    }
   ],
   "source": [
    "for epoch in range(10):\n",
    "    for data in TrainIterator:\n",
    "        batch_inputs, batch_labels = data\n",
    "        batch_inputs = torch.reshape(batch_inputs, [16,784])\n",
    "        Optimizer.zero_grad()\n",
    "        predictions = MyModel(batch_inputs)\n",
    "        current_loss = Loss(predictions, batch_labels)\n",
    "        current_loss.backward()\n",
    "        Optimizer.step()\n",
    "    print(\"Epoch: {} Loss: {}\".format(epoch+1, current_loss))\n"
   ]
  },
  {
   "cell_type": "code",
   "execution_count": 31,
   "metadata": {},
   "outputs": [
    {
     "name": "stdout",
     "output_type": "stream",
     "text": [
      "94.62833333333333 %\n"
     ]
    }
   ],
   "source": [
    "MyModel.eval()\n",
    "correct = 0\n",
    "total = 0\n",
    "for data in iter(TestDataLoader):\n",
    "    batch_inputs, batch_labels = data\n",
    "    batch_inputs = torch.reshape(batch_inputs, [16,784])\n",
    "    predictions = MyModel(batch_inputs).argmax(axis=1)\n",
    "    total += len(batch_labels)\n",
    "    correct += (predictions==batch_labels).sum().item()\n",
    "print(100 *correct/total, \"%\")"
   ]
  },
  {
   "cell_type": "code",
   "execution_count": 32,
   "metadata": {},
   "outputs": [],
   "source": [
    "torch.save(MyModel.state_dict(), \"./MyModel.pt\")"
   ]
  }
 ],
 "metadata": {
  "kernelspec": {
   "display_name": "Python 3.9.12 ('base')",
   "language": "python",
   "name": "python3"
  },
  "language_info": {
   "codemirror_mode": {
    "name": "ipython",
    "version": 3
   },
   "file_extension": ".py",
   "mimetype": "text/x-python",
   "name": "python",
   "nbconvert_exporter": "python",
   "pygments_lexer": "ipython3",
   "version": "3.9.12"
  },
  "orig_nbformat": 4,
  "vscode": {
   "interpreter": {
    "hash": "a14e08c18de12aa4f6f88c1cfa30fccf166afb681c44fd8e3b9e7bfb7bb69add"
   }
  }
 },
 "nbformat": 4,
 "nbformat_minor": 2
}
